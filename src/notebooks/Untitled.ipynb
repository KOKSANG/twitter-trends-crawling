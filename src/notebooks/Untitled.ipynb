{
 "cells": [
  {
   "cell_type": "code",
   "execution_count": null,
   "id": "b552cdd6-75fd-4182-8de3-0778a183ba3c",
   "metadata": {},
   "outputs": [],
   "source": []
  },
  {
   "cell_type": "code",
   "execution_count": 3,
   "id": "a7634cd8-275f-4da4-8d77-1838ca9e59c4",
   "metadata": {},
   "outputs": [],
   "source": [
    "from enum import Enum\n",
    "\n",
    "class Test(Enum):\n",
    "    GG = gg = 10\n",
    "    LALA = 20"
   ]
  },
  {
   "cell_type": "code",
   "execution_count": 4,
   "id": "e9af900c-8321-4de4-baf5-abd408ff0edb",
   "metadata": {},
   "outputs": [
    {
     "ename": "TypeError",
     "evalue": "unsupported operand type(s) for 'in': 'str' and 'EnumMeta'",
     "output_type": "error",
     "traceback": [
      "\u001b[0;31m---------------------------------------------------------------------------\u001b[0m",
      "\u001b[0;31mTypeError\u001b[0m                                 Traceback (most recent call last)",
      "\u001b[0;32m/var/folders/xv/qjjyr8y964x44hhhzv_fdlj80000gq/T/ipykernel_10608/4258852118.py\u001b[0m in \u001b[0;36m<module>\u001b[0;34m\u001b[0m\n\u001b[0;32m----> 1\u001b[0;31m \u001b[0;34m\"GG\"\u001b[0m \u001b[0;32min\u001b[0m \u001b[0mTest\u001b[0m\u001b[0;34m\u001b[0m\u001b[0;34m\u001b[0m\u001b[0m\n\u001b[0m",
      "\u001b[0;32m~/.pyenv/versions/3.9.6/lib/python3.9/enum.py\u001b[0m in \u001b[0;36m__contains__\u001b[0;34m(cls, member)\u001b[0m\n\u001b[1;32m    395\u001b[0m     \u001b[0;32mdef\u001b[0m \u001b[0m__contains__\u001b[0m\u001b[0;34m(\u001b[0m\u001b[0mcls\u001b[0m\u001b[0;34m,\u001b[0m \u001b[0mmember\u001b[0m\u001b[0;34m)\u001b[0m\u001b[0;34m:\u001b[0m\u001b[0;34m\u001b[0m\u001b[0;34m\u001b[0m\u001b[0m\n\u001b[1;32m    396\u001b[0m         \u001b[0;32mif\u001b[0m \u001b[0;32mnot\u001b[0m \u001b[0misinstance\u001b[0m\u001b[0;34m(\u001b[0m\u001b[0mmember\u001b[0m\u001b[0;34m,\u001b[0m \u001b[0mEnum\u001b[0m\u001b[0;34m)\u001b[0m\u001b[0;34m:\u001b[0m\u001b[0;34m\u001b[0m\u001b[0;34m\u001b[0m\u001b[0m\n\u001b[0;32m--> 397\u001b[0;31m             raise TypeError(\n\u001b[0m\u001b[1;32m    398\u001b[0m                 \"unsupported operand type(s) for 'in': '%s' and '%s'\" % (\n\u001b[1;32m    399\u001b[0m                     type(member).__qualname__, cls.__class__.__qualname__))\n",
      "\u001b[0;31mTypeError\u001b[0m: unsupported operand type(s) for 'in': 'str' and 'EnumMeta'"
     ]
    }
   ],
   "source": [
    "\"GG\" in Test"
   ]
  },
  {
   "cell_type": "code",
   "execution_count": 5,
   "id": "82d98718-1791-46b6-ac4b-ef0ef2754d77",
   "metadata": {},
   "outputs": [
    {
     "data": {
      "text/plain": [
       "mappingproxy({'_generate_next_value_': <function enum.Enum._generate_next_value_(name, start, count, last_values)>,\n",
       "              '__module__': '__main__',\n",
       "              '__doc__': 'An enumeration.',\n",
       "              '_member_names_': ['GG', 'LALA'],\n",
       "              '_member_map_': {'GG': <Test.GG: 10>,\n",
       "               'gg': <Test.GG: 10>,\n",
       "               'LALA': <Test.LALA: 20>},\n",
       "              '_member_type_': object,\n",
       "              '_value2member_map_': {10: <Test.GG: 10>, 20: <Test.LALA: 20>},\n",
       "              'GG': <Test.GG: 10>,\n",
       "              'gg': <Test.GG: 10>,\n",
       "              'LALA': <Test.LALA: 20>,\n",
       "              '__new__': <function enum.Enum.__new__(cls, value)>})"
      ]
     },
     "execution_count": 5,
     "metadata": {},
     "output_type": "execute_result"
    }
   ],
   "source": [
    "Test.__dict__"
   ]
  },
  {
   "cell_type": "code",
   "execution_count": 6,
   "id": "85080f77-2c1c-4fc3-97e4-d4583f9100e1",
   "metadata": {},
   "outputs": [
    {
     "data": {
      "text/plain": [
       "['GG', 'LALA']"
      ]
     },
     "execution_count": 6,
     "metadata": {},
     "output_type": "execute_result"
    }
   ],
   "source": [
    "Test._member_names_"
   ]
  },
  {
   "cell_type": "code",
   "execution_count": 7,
   "id": "b6b1f484-c359-4e68-9ffb-3f43f4eb04a9",
   "metadata": {},
   "outputs": [
    {
     "data": {
      "text/plain": [
       "{'_value_': 10, '_name_': 'GG', '__objclass__': <enum 'Test'>}"
      ]
     },
     "execution_count": 7,
     "metadata": {},
     "output_type": "execute_result"
    }
   ],
   "source": [
    "Test.GG.__dict__"
   ]
  },
  {
   "cell_type": "code",
   "execution_count": null,
   "id": "159d3518",
   "metadata": {},
   "outputs": [],
   "source": []
  }
 ],
 "metadata": {
  "kernelspec": {
   "display_name": "Python 3.9.6 64-bit ('shims': pyenv)",
   "language": "python",
   "name": "python3"
  },
  "language_info": {
   "codemirror_mode": {
    "name": "ipython",
    "version": 3
   },
   "file_extension": ".py",
   "mimetype": "text/x-python",
   "name": "python",
   "nbconvert_exporter": "python",
   "pygments_lexer": "ipython3",
   "version": "3.9.6"
  },
  "vscode": {
   "interpreter": {
    "hash": "0bcb3d2749583f9744ca1908632df761bb606a278d7e0c334f267413729cac7c"
   }
  }
 },
 "nbformat": 4,
 "nbformat_minor": 5
}
