{
 "cells": [
  {
   "cell_type": "code",
   "execution_count": 1,
   "id": "8572c777-ca35-4060-b3fa-28b994e5736c",
   "metadata": {},
   "outputs": [],
   "source": [
    "%load_ext autoreload\n",
    "%autoreload 2"
   ]
  },
  {
   "cell_type": "code",
   "execution_count": 2,
   "id": "6bd14c77-0b3d-49ae-9be6-76e1b02363ff",
   "metadata": {},
   "outputs": [],
   "source": [
    "import sys\n",
    "\n",
    "sys.path.insert(0, \"/Users/klim/Projects/twitter-trends-crawling/src\")\n",
    "\n",
    "from core.queue import KafkaQueue"
   ]
  },
  {
   "cell_type": "code",
   "execution_count": 3,
   "id": "43925e0c-9ef9-4cd1-b773-5825292a0889",
   "metadata": {},
   "outputs": [
    {
     "name": "stderr",
     "output_type": "stream",
     "text": [
      "2022-07-03 13:43 | [  INFO  ] model.core.__attrs_post_init__.43  - config: {'config': {'default': {'bootstrap.servers': 'localhost:9092'}, 'consumer': {'group.id': 'app', 'auto.offset.reset': 'earliest'}}, 'run_mode': 'consumer', 'messages': [{'message': '123'}, {'message': '234'}], 'max_results': 10}\n"
     ]
    }
   ],
   "source": [
    "q = KafkaQueue(\n",
    "    run_mode=\"consumer\",       \n",
    "    messages=[{\"message\": \"123\"}, {\"message\": \"234\"}],\n",
    "    config=\"./kafka.yaml\")"
   ]
  },
  {
   "cell_type": "code",
   "execution_count": 4,
   "id": "11da449f-c4a9-49d8-bd0b-8db5ef9f4d0c",
   "metadata": {},
   "outputs": [
    {
     "name": "stderr",
     "output_type": "stream",
     "text": [
      "%3|1656827021.883|FAIL|rdkafka#consumer-1| [thrd:localhost:9092/bootstrap]: localhost:9092/bootstrap: Connect to ipv4#127.0.0.1:9092 failed: Connection refused (after 3ms in state CONNECT)\n"
     ]
    },
    {
     "data": {
      "text/plain": [
       "<cimpl.Consumer at 0x111e27d50>"
      ]
     },
     "execution_count": 4,
     "metadata": {},
     "output_type": "execute_result"
    },
    {
     "name": "stderr",
     "output_type": "stream",
     "text": [
      "%3|1656827022.883|FAIL|rdkafka#consumer-1| [thrd:localhost:9092/bootstrap]: localhost:9092/bootstrap: Connect to ipv6#[::1]:9092 failed: Connection refused (after 0ms in state CONNECT)\n",
      "%3|1656827023.886|FAIL|rdkafka#consumer-1| [thrd:localhost:9092/bootstrap]: localhost:9092/bootstrap: Connect to ipv4#127.0.0.1:9092 failed: Connection refused (after 0ms in state CONNECT)\n",
      "%3|1656827024.888|FAIL|rdkafka#consumer-1| [thrd:localhost:9092/bootstrap]: localhost:9092/bootstrap: Connect to ipv4#127.0.0.1:9092 failed: Connection refused (after 0ms in state CONNECT, 1 identical error(s) suppressed)\n"
     ]
    }
   ],
   "source": [
    "q._get_runner()"
   ]
  },
  {
   "cell_type": "code",
   "execution_count": null,
   "id": "d67bbe60-73fd-46f3-a1e3-1b71f022defd",
   "metadata": {},
   "outputs": [],
   "source": []
  }
 ],
 "metadata": {
  "kernelspec": {
   "display_name": "Python 3 (ipykernel)",
   "language": "python",
   "name": "python3"
  },
  "language_info": {
   "codemirror_mode": {
    "name": "ipython",
    "version": 3
   },
   "file_extension": ".py",
   "mimetype": "text/x-python",
   "name": "python",
   "nbconvert_exporter": "python",
   "pygments_lexer": "ipython3",
   "version": "3.9.6"
  }
 },
 "nbformat": 4,
 "nbformat_minor": 5
}
