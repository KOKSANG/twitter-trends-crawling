{
 "cells": [
  {
   "cell_type": "code",
   "execution_count": 1,
   "id": "8572c777-ca35-4060-b3fa-28b994e5736c",
   "metadata": {},
   "outputs": [],
   "source": [
    "%load_ext autoreload\n",
    "%autoreload 2"
   ]
  },
  {
   "cell_type": "code",
   "execution_count": 2,
   "id": "6bd14c77-0b3d-49ae-9be6-76e1b02363ff",
   "metadata": {},
   "outputs": [],
   "source": [
    "import sys\n",
    "\n",
    "sys.path.insert(0, \"/Users/klim/Projects/twitter-trends-crawling/src\")\n",
    "\n",
    "from core.queue import KafkaQueue"
   ]
  },
  {
   "cell_type": "code",
   "execution_count": 3,
   "id": "43925e0c-9ef9-4cd1-b773-5825292a0889",
   "metadata": {},
   "outputs": [
    {
     "name": "stderr",
     "output_type": "stream",
     "text": [
      "2022-07-03 22:36 [  INFO   ] model.base.__attrs_post_init__.20  - Init config: {'config': {'default': {'bootstrap.servers': 'localhost:9092'}, 'consumer': {'group.id': 'app', 'auto.offset.reset': 'earliest'}}, 'mode': 'consumer'}\n"
     ]
    }
   ],
   "source": [
    "q = KafkaQueue(\n",
    "    mode=\"consumer\",\n",
    "    config=\"./kafka.yaml\"\n",
    ")"
   ]
  },
  {
   "cell_type": "code",
   "execution_count": null,
   "id": "a09acd18-d0e8-4fe7-af41-e20b3461ff9c",
   "metadata": {},
   "outputs": [],
   "source": []
  },
  {
   "cell_type": "code",
   "execution_count": null,
   "id": "c974c8e6-d04b-4bcb-b982-b88817528a65",
   "metadata": {},
   "outputs": [],
   "source": []
  }
 ],
 "metadata": {
  "kernelspec": {
   "display_name": "Python 3 (ipykernel)",
   "language": "python",
   "name": "python3"
  },
  "language_info": {
   "codemirror_mode": {
    "name": "ipython",
    "version": 3
   },
   "file_extension": ".py",
   "mimetype": "text/x-python",
   "name": "python",
   "nbconvert_exporter": "python",
   "pygments_lexer": "ipython3",
   "version": "3.9.6"
  }
 },
 "nbformat": 4,
 "nbformat_minor": 5
}
