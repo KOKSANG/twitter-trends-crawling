{
 "cells": [
  {
   "cell_type": "code",
   "execution_count": 1,
   "id": "5e97313d-e2d8-4fc1-88c0-53369e613adb",
   "metadata": {},
   "outputs": [
    {
     "name": "stdout",
     "output_type": "stream",
     "text": [
      "env: GOOGLE_APPLICATION_CREDENTIALS=/Users/klim/Desktop/area51.json\n"
     ]
    }
   ],
   "source": [
    "PROJECT = \"area51-lab\"\n",
    "DATASET = \"raw\"\n",
    "TABLE = \"test\"\n",
    "TABLE_PATH = f\"projects/{PROJECT}/datasets/{DATASET}/tables/{TABLE}\"\n",
    "WRITE_STREAM = f\"{TABLE_PATH}/streams/_default\"\n",
    "\n",
    "%env GOOGLE_APPLICATION_CREDENTIALS=/Users/klim/Desktop/area51.json"
   ]
  },
  {
   "cell_type": "code",
   "execution_count": 3,
   "id": "bf8c76d1-6bdb-4aff-84c3-2a30a7368d8b",
   "metadata": {},
   "outputs": [],
   "source": [
    "!./protoc --python_out=. bqmodel.proto"
   ]
  },
  {
   "cell_type": "code",
   "execution_count": 2,
   "id": "031252dd-5444-417e-897b-008212992999",
   "metadata": {},
   "outputs": [
    {
     "data": {
      "text/plain": [
       "'projects/area51-lab/datasets/raw/tables/test/streams/CiQ2ZmEwMzA4OC0wMDAwLTI0YzYtYTA2MS0yNDA1ODg3MWZjZDg'"
      ]
     },
     "execution_count": 2,
     "metadata": {},
     "output_type": "execute_result"
    }
   ],
   "source": [
    "from datetime import datetime as dt, timezone as tz\n",
    "from google.cloud.bigquery_storage import (\n",
    "    BigQueryWriteClient,\n",
    "    AppendRowsRequest, \n",
    "    WriteStream,\n",
    "    ProtoRows,\n",
    "    ProtoSchema\n",
    ")\n",
    "from google.protobuf import descriptor_pb2\n",
    "\n",
    "import bqmodel_pb2 as model\n",
    "\n",
    "client = BigQueryWriteClient()\n",
    "parent = client.table_path(PROJECT, DATASET, TABLE)\n",
    "write_stream = client.create_write_stream(\n",
    "    parent=parent, \n",
    "    write_stream=WriteStream(type_=WriteStream.Type.COMMITTED)\n",
    ")\n",
    "\n",
    "write_stream.name"
   ]
  },
  {
   "cell_type": "code",
   "execution_count": 3,
   "id": "fdfdb50b-5082-4014-bc68-f23b99b527c8",
   "metadata": {},
   "outputs": [
    {
     "ename": "AttributeError",
     "evalue": "Assignment not allowed to repeated field \"hashtags\" in protocol message object.",
     "output_type": "error",
     "traceback": [
      "\u001b[0;31m---------------------------------------------------------------------------\u001b[0m",
      "\u001b[0;31mAttributeError\u001b[0m                            Traceback (most recent call last)",
      "Input \u001b[0;32mIn [3]\u001b[0m, in \u001b[0;36m<cell line: 16>\u001b[0;34m()\u001b[0m\n\u001b[1;32m     14\u001b[0m row\u001b[38;5;241m.\u001b[39mquote_tweets_count \u001b[38;5;241m=\u001b[39m \u001b[38;5;241m1\u001b[39m\n\u001b[1;32m     15\u001b[0m row\u001b[38;5;241m.\u001b[39mlikes_count \u001b[38;5;241m=\u001b[39m \u001b[38;5;241m1\u001b[39m\n\u001b[0;32m---> 16\u001b[0m \u001b[43mrow\u001b[49m\u001b[38;5;241;43m.\u001b[39;49m\u001b[43mhashtags\u001b[49m \u001b[38;5;241m=\u001b[39m []\n\u001b[1;32m     17\u001b[0m row\u001b[38;5;241m.\u001b[39mreplies\u001b[38;5;241m.\u001b[39mextend([\u001b[38;5;124m\"\u001b[39m\u001b[38;5;124m123123132131\u001b[39m\u001b[38;5;124m\"\u001b[39m, \u001b[38;5;124m\"\u001b[39m\u001b[38;5;124m123123132131\u001b[39m\u001b[38;5;124m\"\u001b[39m])\n\u001b[1;32m     18\u001b[0m row\u001b[38;5;241m.\u001b[39msource_label \u001b[38;5;241m=\u001b[39m \u001b[38;5;124m\"\u001b[39m\u001b[38;5;124m123123132131\u001b[39m\u001b[38;5;124m\"\u001b[39m\n",
      "\u001b[0;31mAttributeError\u001b[0m: Assignment not allowed to repeated field \"hashtags\" in protocol message object."
     ]
    }
   ],
   "source": [
    "proto_descriptor = descriptor_pb2.DescriptorProto()\n",
    "model.Tweet.DESCRIPTOR.CopyToProto(proto_descriptor)\n",
    "\n",
    "delta = dt.now() - dt(1970, 1, 1)\n",
    "ts_value = int(delta.total_seconds()) * 1000000 + int(delta.microseconds)\n",
    "\n",
    "row = model.Tweet()\n",
    "row.id = \"123123132131\"\n",
    "row.url = \"123123132131\"\n",
    "row.content = \"123123132131\"\n",
    "row.created_timestamp = ts_value\n",
    "row.user_id = \"123123132131\"\n",
    "row.retweets_count = 1\n",
    "row.quote_tweets_count = 1\n",
    "row.likes_count = 1\n",
    "row.hashtags = []\n",
    "row.replies.extend([\"123123132131\", \"123123132131\"])\n",
    "row.source_label = \"123123132131\"\n",
    "\n",
    "proto_schema = ProtoSchema(proto_descriptor=proto_descriptor)\n",
    "proto_rows = ProtoRows(serialized_rows=[\n",
    "    row.SerializeToString(),\n",
    "    row.SerializeToString(),\n",
    "    row.SerializeToString()\n",
    "])\n",
    "proto_data = AppendRowsRequest.ProtoData(\n",
    "    writer_schema=proto_schema,\n",
    "    rows=proto_rows\n",
    ")\n",
    "\n",
    "request = AppendRowsRequest(write_stream=write_stream.name, proto_rows=proto_data)"
   ]
  },
  {
   "cell_type": "code",
   "execution_count": 6,
   "id": "b7f8f4c7-6b4a-453e-ad51-357cbf8d7dc1",
   "metadata": {},
   "outputs": [
    {
     "data": {
      "text/plain": [
       "[append_result {\n",
       "   offset {\n",
       "     value: 3\n",
       "   }\n",
       " }]"
      ]
     },
     "execution_count": 6,
     "metadata": {},
     "output_type": "execute_result"
    }
   ],
   "source": [
    "resp = client.append_rows(requests=iter([request]))\n",
    "resps = list(resp)\n",
    "resps"
   ]
  },
  {
   "cell_type": "code",
   "execution_count": 7,
   "id": "67cc9014-c7f2-40b0-bf18-ed55b584e6ae",
   "metadata": {},
   "outputs": [
    {
     "name": "stdout",
     "output_type": "stream",
     "text": [
      "offset {\n",
      "  value: 3\n",
      "}\n",
      "\n"
     ]
    }
   ],
   "source": [
    "for resp in resps:\n",
    "    print(resp.append_result)\n",
    "    if resp.append_result:\n",
    "        pass"
   ]
  },
  {
   "cell_type": "code",
   "execution_count": null,
   "id": "a4e09ba6-5e60-43f0-a437-744b590a74f0",
   "metadata": {},
   "outputs": [],
   "source": []
  }
 ],
 "metadata": {
  "kernelspec": {
   "display_name": "Python 3 (ipykernel)",
   "language": "python",
   "name": "python3"
  },
  "language_info": {
   "codemirror_mode": {
    "name": "ipython",
    "version": 3
   },
   "file_extension": ".py",
   "mimetype": "text/x-python",
   "name": "python",
   "nbconvert_exporter": "python",
   "pygments_lexer": "ipython3",
   "version": "3.9.13"
  }
 },
 "nbformat": 4,
 "nbformat_minor": 5
}
