{
 "cells": [
  {
   "cell_type": "code",
   "execution_count": null,
   "id": "a7c614fe-a51c-41b9-90a3-e83d68a7058c",
   "metadata": {},
   "outputs": [],
   "source": []
  },
  {
   "cell_type": "code",
   "execution_count": 10,
   "id": "ef6ee448-6bb8-4cb7-9c12-5e2e6b7c8f64",
   "metadata": {},
   "outputs": [
    {
     "name": "stdout",
     "output_type": "stream",
     "text": [
      "https://twitter.com/emmavj/status/1550765398706061312\n"
     ]
    },
    {
     "data": {
      "text/plain": [
       "snscrape.modules.twitter.Tweet"
      ]
     },
     "execution_count": 10,
     "metadata": {},
     "output_type": "execute_result"
    }
   ],
   "source": [
    "from snscrape.modules.twitter import (\n",
    "    TwitterSearchScraper,\n",
    "    TwitterTweetScraper,\n",
    "    TwitterUserScraper,\n",
    ")\n",
    "\n",
    "scraper = TwitterSearchScraper(\"elon musk\")\n",
    "\n",
    "for item in scraper.get_items():\n",
    "    print(item)\n",
    "    break\n",
    "\n",
    "type(item)"
   ]
  },
  {
   "cell_type": "code",
   "execution_count": 11,
   "id": "f58dec38-95d1-430a-ac25-44b3501117a4",
   "metadata": {},
   "outputs": [
    {
     "data": {
      "text/plain": [
       "{'url': 'https://twitter.com/emmavj/status/1550765398706061312',\n",
       " 'date': datetime.datetime(2022, 7, 23, 8, 50, 57, tzinfo=datetime.timezone.utc),\n",
       " 'content': '\\u2066@elonmusk\\u2069 is one of the highest profile examples of someone with wildly different online and offline personalities.  https://t.co/I3lKr7lL2w',\n",
       " 'renderedContent': '\\u2066@elonmusk\\u2069 is one of the highest profile examples of someone with wildly different online and offline personalities.  on.ft.com/3RY1kT9',\n",
       " 'id': 1550765398706061312,\n",
       " 'user': User(username='emmavj', id=14907258, displayname='emma jacobs', description='London-based features journalist, Financial Times. illustration © Vincent Kilbride', rawDescription='London-based features journalist, Financial Times. illustration © Vincent Kilbride', descriptionUrls=None, verified=True, created=datetime.datetime(2008, 5, 26, 9, 37, 39, tzinfo=datetime.timezone.utc), followersCount=13557, friendsCount=2897, statusesCount=52835, favouritesCount=30203, listedCount=275, mediaCount=2879, location='', protected=False, linkUrl='http://www.ft.com', linkTcourl='https://t.co/xGhbCoSZKs', profileImageUrl='https://pbs.twimg.com/profile_images/1171885838847959040/RQuTQehM_normal.jpg', profileBannerUrl='https://pbs.twimg.com/profile_banners/14907258/1621785611', label=None),\n",
       " 'replyCount': 0,\n",
       " 'retweetCount': 0,\n",
       " 'likeCount': 0,\n",
       " 'quoteCount': 0,\n",
       " 'conversationId': 1550765398706061312,\n",
       " 'lang': 'en',\n",
       " 'source': '<a href=\"http://twitter.com/download/iphone\" rel=\"nofollow\">Twitter for iPhone</a>',\n",
       " 'sourceUrl': 'http://twitter.com/download/iphone',\n",
       " 'sourceLabel': 'Twitter for iPhone',\n",
       " 'outlinks': ['https://on.ft.com/3RY1kT9'],\n",
       " 'tcooutlinks': ['https://t.co/I3lKr7lL2w'],\n",
       " 'media': None,\n",
       " 'retweetedTweet': None,\n",
       " 'quotedTweet': None,\n",
       " 'inReplyToTweetId': None,\n",
       " 'inReplyToUser': None,\n",
       " 'mentionedUsers': [User(username='elonmusk', id=44196397, displayname='Elon Musk', description=None, rawDescription=None, descriptionUrls=None, verified=None, created=None, followersCount=None, friendsCount=None, statusesCount=None, favouritesCount=None, listedCount=None, mediaCount=None, location=None, protected=None, linkUrl=None, linkTcourl=None, profileImageUrl=None, profileBannerUrl=None, label=None)],\n",
       " 'coordinates': None,\n",
       " 'place': None,\n",
       " 'hashtags': None,\n",
       " 'cashtags': None}"
      ]
     },
     "execution_count": 11,
     "metadata": {},
     "output_type": "execute_result"
    }
   ],
   "source": [
    "item.__dict__"
   ]
  },
  {
   "cell_type": "code",
   "execution_count": 13,
   "id": "7b9d8864-7623-4176-ba3d-a8764b58f562",
   "metadata": {},
   "outputs": [
    {
     "data": {
      "text/plain": [
       "{'username': 'emmavj',\n",
       " 'id': 14907258,\n",
       " 'displayname': 'emma jacobs',\n",
       " 'description': 'London-based features journalist, Financial Times. illustration © Vincent Kilbride',\n",
       " 'rawDescription': 'London-based features journalist, Financial Times. illustration © Vincent Kilbride',\n",
       " 'descriptionUrls': None,\n",
       " 'verified': True,\n",
       " 'created': datetime.datetime(2008, 5, 26, 9, 37, 39, tzinfo=datetime.timezone.utc),\n",
       " 'followersCount': 13557,\n",
       " 'friendsCount': 2897,\n",
       " 'statusesCount': 52835,\n",
       " 'favouritesCount': 30203,\n",
       " 'listedCount': 275,\n",
       " 'mediaCount': 2879,\n",
       " 'location': '',\n",
       " 'protected': False,\n",
       " 'linkUrl': 'http://www.ft.com',\n",
       " 'linkTcourl': 'https://t.co/xGhbCoSZKs',\n",
       " 'profileImageUrl': 'https://pbs.twimg.com/profile_images/1171885838847959040/RQuTQehM_normal.jpg',\n",
       " 'profileBannerUrl': 'https://pbs.twimg.com/profile_banners/14907258/1621785611',\n",
       " 'label': None}"
      ]
     },
     "execution_count": 13,
     "metadata": {},
     "output_type": "execute_result"
    }
   ],
   "source": [
    "item.user.__dict__"
   ]
  },
  {
   "cell_type": "code",
   "execution_count": null,
   "id": "6a2e09e8",
   "metadata": {},
   "outputs": [],
   "source": []
  }
 ],
 "metadata": {
  "kernelspec": {
   "display_name": "Python 3.9.6 64-bit ('shims': pyenv)",
   "language": "python",
   "name": "python3"
  },
  "language_info": {
   "codemirror_mode": {
    "name": "ipython",
    "version": 3
   },
   "file_extension": ".py",
   "mimetype": "text/x-python",
   "name": "python",
   "nbconvert_exporter": "python",
   "pygments_lexer": "ipython3",
   "version": "3.9.6"
  },
  "vscode": {
   "interpreter": {
    "hash": "0bcb3d2749583f9744ca1908632df761bb606a278d7e0c334f267413729cac7c"
   }
  }
 },
 "nbformat": 4,
 "nbformat_minor": 5
}
