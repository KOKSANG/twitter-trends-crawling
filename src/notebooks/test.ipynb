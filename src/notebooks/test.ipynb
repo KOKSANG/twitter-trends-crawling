{
 "cells": [
  {
   "cell_type": "code",
   "execution_count": 1,
   "id": "7ccfdaab-f31d-4505-9ecf-ba814e56c500",
   "metadata": {},
   "outputs": [
    {
     "name": "stdout",
     "output_type": "stream",
     "text": [
      "/Users/klim/Projects/twitter-trends-crawling/src\n"
     ]
    }
   ],
   "source": [
    "%load_ext autoreload\n",
    "%autoreload 2\n",
    "\n",
    "%cd ../"
   ]
  },
  {
   "cell_type": "code",
   "execution_count": 2,
   "id": "b4471d91-6e10-4d6b-8439-67ae304867c3",
   "metadata": {},
   "outputs": [],
   "source": [
    "CONFIG = \"./notebooks/kafka.yaml\"\n",
    "TOPIC = \"tweet\""
   ]
  },
  {
   "cell_type": "code",
   "execution_count": 3,
   "id": "ecdec0cf",
   "metadata": {},
   "outputs": [
    {
     "data": {
      "text/plain": [
       "{'default': {'bootstrap.servers': 'localhost:9092'},\n",
       " 'consumer': {'group.id': 'app', 'auto.offset.reset': 'earliest'}}"
      ]
     },
     "execution_count": 3,
     "metadata": {},
     "output_type": "execute_result"
    }
   ],
   "source": [
    "import os\n",
    "import sys\n",
    "import yaml\n",
    "\n",
    "from tqdm import tqdm\n",
    "from confluent_kafka import Producer, Consumer\n",
    "\n",
    "with open(CONFIG) as f:\n",
    "    config = yaml.safe_load(f)\n",
    "    \n",
    "config"
   ]
  },
  {
   "cell_type": "code",
   "execution_count": 4,
   "id": "e3219503-664d-4e39-86d5-2714733a0e8c",
   "metadata": {},
   "outputs": [],
   "source": [
    "p = Producer(config['default'])\n",
    "\n",
    "message = \"testing\"\n",
    "\n",
    "for i in range(100):\n",
    "    p.produce(TOPIC, f\"{message}-{i}\", \"message\")\n",
    "    \n",
    "p.flush()"
   ]
  },
  {
   "cell_type": "code",
   "execution_count": 6,
   "id": "31ab633d-07b2-4ac8-af8b-4204763eb064",
   "metadata": {},
   "outputs": [],
   "source": [
    "consumer_config = config[\"consumer\"].copy()\n",
    "consumer_config.update(config[\"default\"])\n",
    "\n",
    "c = Consumer(consumer_config)\n",
    "c.subscribe([TOPIC])\n",
    "\n",
    "msg = []\n",
    "\n",
    "for _ in tqdm(range(150)):\n",
    "    msg.append(c.poll(1))\n",
    "    \n",
    "msg[0].topic(), msg[0].key().decode(\"utf-8\"), msg[0].value().decode(\"utf-8\")"
   ]
  },
  {
   "cell_type": "code",
   "execution_count": 7,
   "id": "089f147e-e419-4b65-8aa0-15773a24718c",
   "metadata": {},
   "outputs": [],
   "source": [
    "import sys\n",
    "\n",
    "sys.path.insert(0, \"/Users/klim/Projects/twitter-trends-crawling/src\")\n",
    "\n",
    "from base.model import Queue, Crawler\n",
    "from module.queue.queue import App"
   ]
  },
  {
   "cell_type": "code",
   "execution_count": 10,
   "id": "821a72dd-f204-40fe-b773-fd3a51d1ec70",
   "metadata": {},
   "outputs": [
    {
     "name": "stderr",
     "output_type": "stream",
     "text": [
      "2022-06-12 23:45 | [  INFO  ] base.model.__attrs_post_init__.42  - config: {'config': {'default': {'bootstrap.servers': 'localhost:9092'}, 'consumer': {'group.id': 'app', 'auto.offset.reset': 'earliest'}}, 'run_mode': 'CONSUME'}\n"
     ]
    }
   ],
   "source": [
    "q = App(config=config, run_mode=\"CONSUME\")"
   ]
  },
  {
   "cell_type": "code",
   "execution_count": 11,
   "id": "8a43909e-bbe1-4043-9031-23cf360b7d15",
   "metadata": {},
   "outputs": [
    {
     "name": "stdout",
     "output_type": "stream",
     "text": [
      "{'bootstrap.servers': 'localhost:9092', 'group.id': 'app', 'auto.offset.reset': 'earliest'}\n"
     ]
    }
   ],
   "source": [
    "q.run()"
   ]
  },
  {
   "cell_type": "code",
   "execution_count": null,
   "id": "b6bec714-f6ae-4710-b8a2-30c89943a45b",
   "metadata": {},
   "outputs": [],
   "source": []
  }
 ],
 "metadata": {
  "interpreter": {
   "hash": "0bcb3d2749583f9744ca1908632df761bb606a278d7e0c334f267413729cac7c"
  },
  "kernelspec": {
   "display_name": "Python 3 (ipykernel)",
   "language": "python",
   "name": "python3"
  },
  "language_info": {
   "codemirror_mode": {
    "name": "ipython",
    "version": 3
   },
   "file_extension": ".py",
   "mimetype": "text/x-python",
   "name": "python",
   "nbconvert_exporter": "python",
   "pygments_lexer": "ipython3",
   "version": "3.9.6"
  }
 },
 "nbformat": 4,
 "nbformat_minor": 5
}
