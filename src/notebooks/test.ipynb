{
 "cells": [
  {
   "cell_type": "code",
   "execution_count": 1,
   "id": "7ccfdaab-f31d-4505-9ecf-ba814e56c500",
   "metadata": {},
   "outputs": [],
   "source": [
    "%load_ext autoreload\n",
    "%autoreload 2"
   ]
  },
  {
   "cell_type": "code",
   "execution_count": 2,
   "id": "ecdec0cf",
   "metadata": {},
   "outputs": [
    {
     "name": "stderr",
     "output_type": "stream",
     "text": [
      "/var/folders/xv/qjjyr8y964x44hhhzv_fdlj80000gq/T/ipykernel_3853/2262790914.py:4: DeprecationWarning: Using or importing the ABCs from 'collections' instead of from 'collections.abc' is deprecated since Python 3.3, and in 3.10 it will stop working\n",
      "  from collections import Iterable\n"
     ]
    }
   ],
   "source": [
    "import os\n",
    "import sys\n",
    "from typing import List, get_args\n",
    "from collections import Iterable\n",
    "\n",
    "sys.path.insert(0, \"src\")\n",
    "\n",
    "from base.model import Task\n",
    "from module.crawler.app import App"
   ]
  },
  {
   "cell_type": "code",
   "execution_count": 3,
   "id": "b6cc1e4d-cdd7-4811-8edf-008a61328177",
   "metadata": {},
   "outputs": [
    {
     "name": "stderr",
     "output_type": "stream",
     "text": [
      "2022-06-06 22:36 | [  INFO  ] base.model.__attrs_post_init__.37  - config: {'hashtag': ['gg'], 'max_tweets': 10}\n"
     ]
    }
   ],
   "source": [
    "c = App(hashtag=[\"gg\"])"
   ]
  },
  {
   "cell_type": "code",
   "execution_count": 6,
   "id": "69959c50-d598-461d-a230-ccfd012bdbd3",
   "metadata": {},
   "outputs": [
    {
     "data": {
      "text/plain": [
       "'GG'"
      ]
     },
     "execution_count": 6,
     "metadata": {},
     "output_type": "execute_result"
    }
   ],
   "source": [
    "str.supper(\"gg\")"
   ]
  },
  {
   "cell_type": "code",
   "execution_count": 8,
   "id": "03f8083f-4900-4517-98ec-9f29d16fdb2e",
   "metadata": {},
   "outputs": [
    {
     "data": {
      "text/plain": [
       "'gg'"
      ]
     },
     "execution_count": 8,
     "metadata": {},
     "output_type": "execute_result"
    }
   ],
   "source": [
    "str.strip(\"gg\")"
   ]
  },
  {
   "cell_type": "code",
   "execution_count": null,
   "id": "b6f15214-95ff-4871-9a7d-74f078e9a7a8",
   "metadata": {},
   "outputs": [],
   "source": []
  }
 ],
 "metadata": {
  "interpreter": {
   "hash": "0bcb3d2749583f9744ca1908632df761bb606a278d7e0c334f267413729cac7c"
  },
  "kernelspec": {
   "display_name": "Python 3 (ipykernel)",
   "language": "python",
   "name": "python3"
  },
  "language_info": {
   "codemirror_mode": {
    "name": "ipython",
    "version": 3
   },
   "file_extension": ".py",
   "mimetype": "text/x-python",
   "name": "python",
   "nbconvert_exporter": "python",
   "pygments_lexer": "ipython3",
   "version": "3.9.6"
  }
 },
 "nbformat": 4,
 "nbformat_minor": 5
}
