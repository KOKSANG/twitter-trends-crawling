{
 "cells": [
  {
   "cell_type": "code",
   "execution_count": 2,
   "id": "f7a56bdb-d9bd-4dad-95ad-c3bf3ddce175",
   "metadata": {},
   "outputs": [
    {
     "name": "stdout",
     "output_type": "stream",
     "text": [
      "env: GOOGLE_APPLICATION_CREDENTIALS=/Users/klim/Desktop/area51.json\n"
     ]
    }
   ],
   "source": [
    "\n",
    "%env GOOGLE_APPLICATION_CREDENTIALS=/Users/klim/Desktop/area51.json"
   ]
  },
  {
   "cell_type": "code",
   "execution_count": 3,
   "id": "0c0dc873-b6f3-4507-a22c-e115bdadf273",
   "metadata": {},
   "outputs": [],
   "source": [
    "import pandas as pd\n",
    "from google.cloud import bigquery\n",
    "\n",
    "client = bigquery.Client()"
   ]
  },
  {
   "cell_type": "code",
   "execution_count": 23,
   "id": "25c4351c-13ea-494c-9ffa-1b768b02ce39",
   "metadata": {},
   "outputs": [
    {
     "name": "stdout",
     "output_type": "stream",
     "text": [
      "\"ada\" OR \"cardano\" (#ada OR #cardano) until:2022-08-07 since:2022-08-06\n",
      "\"ada\" OR \"cardano\" (#ada OR #cardano) until:2022-08-08 since:2022-08-07\n",
      "\"ark\" OR \"ark invest\" (#ark OR #arkinvest) until:2022-08-07 since:2022-08-06\n",
      "\"ark\" OR \"ark invest\" (#ark OR #arkinvest) until:2022-08-08 since:2022-08-07\n",
      "\"avax\" OR \"avalanche\" (#avax OR #avalanche) until:2022-08-07 since:2022-08-06\n",
      "\"avax\" OR \"avalanche\" (#avax OR #avalanche) until:2022-08-08 since:2022-08-07\n",
      "\"binance\" OR \"binance.us\" (#binance) until:2022-08-07 since:2022-08-06\n",
      "\"binance\" OR \"binance.us\" (#binance) until:2022-08-08 since:2022-08-07\n",
      "\"blockchain\" (#blockchain) until:2022-08-07 since:2022-08-06\n",
      "\"bnb\" OR \"binance coin\" OR \"bsc\" OR \"binance smart chain\" (#bnb OR #bsc OR #binancecoin OR #binancesmartchain) until:2022-08-07 since:2022-08-06\n",
      "\"bnb\" OR \"binance coin\" OR \"bsc\" OR \"binance smart chain\" (#bnb OR #bsc OR #binancecoin OR #binancesmartchain) until:2022-08-08 since:2022-08-07\n",
      "\"btc\" OR \"bitcoin\" (#btc OR #bitcoin) until:2022-08-07 since:2022-08-06\n",
      "\"btc\" OR \"bitcoin\" (#btc OR #bitcoin) until:2022-08-08 since:2022-08-07\n",
      "\"chainlink\" (#link OR #chainlink) until:2022-08-07 since:2022-08-06\n",
      "\"chainlink\" (#link OR #chainlink) until:2022-08-08 since:2022-08-07\n",
      "\"coinbase\" OR \"$COIN\" (#coin OR #coinbase) until:2022-08-07 since:2022-08-06\n",
      "\"coinbase\" OR \"$COIN\" (#coin OR #coinbase) until:2022-08-08 since:2022-08-07\n",
      "\"crypto\" OR \"cryptocurrency\" (#crypto OR #cryptocurrency) until:2022-08-08 since:2022-08-07\"blockchain\" (#blockchain) until:2022-08-08 since:2022-08-07\n",
      "\"dao\" (\"#dao\") until:2022-08-08 since:2022-08-07\n",
      "\"dao\" (#dao) until:2022-08-07 since:2022-08-06\n",
      "\"defi\" OR \"gamefi\" (#defi OR #gamefi) until:2022-08-07 since:2022-08-06\n",
      "\"defi\" OR \"gamefi\" OR \"dao\" (#defi OR #gamefi OR \"#dao\") until:2022-08-08 since:2022-08-07\n",
      "\"doge\" OR \"dogecoin\" (#doge OR #dogecoin) until:2022-08-07 since:2022-08-06\n",
      "\"doge\" OR \"dogecoin\" (#doge OR #dogecoin) until:2022-08-08 since:2022-08-07\n",
      "\"elon musk\" (#elonmusk OR #elon) until:2022-08-07 since:2022-08-06\n",
      "\"elon musk\" (#elonmusk OR #elon) until:2022-08-08 since:2022-08-07\n",
      "\"erg\" OR \"ergo\" (#erg OR #ergo) until:2022-08-07 since:2022-08-06\n",
      "\"erg\" OR \"ergo\" (#erg OR #ergo) until:2022-08-08 since:2022-08-07\n",
      "\"eth\" OR \"ethereum\" (#eth OR #ethereum) until:2022-08-07 since:2022-08-06\n",
      "\"eth\" OR \"ethereum\" (#eth OR #ethereum) until:2022-08-08 since:2022-08-07\n",
      "\"ftx\" OR \"ftx.us\" (#ftx) until:2022-08-07 since:2022-08-06\n",
      "\"ftx\" OR \"ftx.us\" (#ftx) until:2022-08-08 since:2022-08-07\n",
      "\"jack dorsey\" (#jackdorsey) until:2022-08-07 since:2022-08-06\n",
      "\"matic\" OR \"polygon\" (#matic OR #polygon) until:2022-08-07 since:2022-08-06\n",
      "\"matic\" OR \"polygon\" (#matic OR #polygon) until:2022-08-08 since:2022-08-07\n",
      "\"michael saylor\" (#michaelsaylor) until:2022-08-07 since:2022-08-06\n",
      "\"nft\" OR \"nfts\" OR \"metaverse\" (#nft OR #nfts OR #metaverse) until:2022-08-07 since:2022-08-06\n",
      "\"nft\" OR \"nfts\" OR \"metaverse\" (#nft OR #nfts OR #metaverse) until:2022-08-08 since:2022-08-07\n",
      "\"sam bankman\" OR \"sbf\" (#sbf OR #sambankman) until:2022-08-07 since:2022-08-06\n",
      "\"shib\" OR \"shibatoken\" (#shib OR #shibatoken) until:2022-08-07 since:2022-08-06\n",
      "\"shib\" OR \"shibatoken\" (#shib OR #shibatoken) until:2022-08-08 since:2022-08-07\n",
      "\"sol\" OR \"solana\" (#sol OR #solana) until:2022-08-07 since:2022-08-06\n",
      "\"sol\" OR \"solana\" (#sol OR #solana) until:2022-08-08 since:2022-08-07\n",
      "\"vitalik buterin\" (#vitalik OR #vitalikbuterin) until:2022-08-07 since:2022-08-06\n",
      "\"web3\" (#web3) until:2022-08-07 since:2022-08-06\n",
      "\"web3\" (#web3) until:2022-08-08 since:2022-08-07\n",
      "\"xrp\" OR \"ripple\" (#xrp OR #ripple) until:2022-08-07 since:2022-08-06\n",
      "\"xrp\" OR \"ripple\" (#xrp OR #ripple) until:2022-08-08 since:2022-08-07\n"
     ]
    }
   ],
   "source": [
    "sql = \"\"\"\n",
    "    select distinct(entity) from raw.tweet\n",
    "    where data_ts > timestamp_sub(current_timestamp(), interval 24 hour)\n",
    "    order by entity\n",
    "\"\"\"\n",
    "df = client.query(sql).to_dataframe()\n",
    "for ent in df.entity: print(ent)"
   ]
  },
  {
   "cell_type": "code",
   "execution_count": null,
   "id": "69ab0095-b5d2-4831-98d8-a361b43c17dd",
   "metadata": {},
   "outputs": [],
   "source": [
    "sql = \"\"\"\n",
    "    update raw.tweet\n",
    "    set entity = '\"dao\" (#dao) until:2022-08-08 since:2022-08-07'\n",
    "    where\n",
    "        entity = '\"dao\" (\"#dao\") until:2022-08-08 since:2022-08-07'\n",
    "        and data_ts < timestamp_sub(current_timestamp(), interval 30 minute)\n",
    "\"\"\"\n",
    "print(sql)\n",
    "df = client.query(sql).to_dataframe()\n",
    "df"
   ]
  },
  {
   "cell_type": "code",
   "execution_count": null,
   "id": "935990ad-dea3-412d-87f9-0c3113838fc5",
   "metadata": {},
   "outputs": [],
   "source": [
    "sql = \"\"\"\n",
    "    delete from raw.tweet\n",
    "    where \n",
    "        entity like '\"crypto\" OR \"cryptocurrency\" (#crypto OR #cryptocurrency) until:2022-08-08 since:2022-08-07\"blockchain\" (#blockchain)%'\n",
    "        and data_ts < timestamp_sub(current_timestamp(), interval 40 minute)\n",
    "\"\"\"\n",
    "print(sql)\n",
    "df = client.query(sql).to_dataframe()\n",
    "df"
   ]
  },
  {
   "cell_type": "code",
   "execution_count": 27,
   "id": "bf8ac247-06d5-40e1-9c68-6abbae68a52e",
   "metadata": {},
   "outputs": [
    {
     "name": "stdout",
     "output_type": "stream",
     "text": [
      "\n",
      "select distinct extract(week from data_ts) from fct.user_snapshots\n",
      "order by 1\n",
      "\n"
     ]
    },
    {
     "data": {
      "text/html": [
       "<div>\n",
       "<style scoped>\n",
       "    .dataframe tbody tr th:only-of-type {\n",
       "        vertical-align: middle;\n",
       "    }\n",
       "\n",
       "    .dataframe tbody tr th {\n",
       "        vertical-align: top;\n",
       "    }\n",
       "\n",
       "    .dataframe thead th {\n",
       "        text-align: right;\n",
       "    }\n",
       "</style>\n",
       "<table border=\"1\" class=\"dataframe\">\n",
       "  <thead>\n",
       "    <tr style=\"text-align: right;\">\n",
       "      <th></th>\n",
       "      <th>f0_</th>\n",
       "    </tr>\n",
       "  </thead>\n",
       "  <tbody>\n",
       "    <tr>\n",
       "      <th>0</th>\n",
       "      <td>31</td>\n",
       "    </tr>\n",
       "    <tr>\n",
       "      <th>1</th>\n",
       "      <td>32</td>\n",
       "    </tr>\n",
       "  </tbody>\n",
       "</table>\n",
       "</div>"
      ],
      "text/plain": [
       "   f0_\n",
       "0   31\n",
       "1   32"
      ]
     },
     "execution_count": 27,
     "metadata": {},
     "output_type": "execute_result"
    }
   ],
   "source": [
    "sql = \"\"\"\n",
    "select distinct extract(week from data_ts) from fct.user_snapshots\n",
    "order by 1\n",
    "\"\"\"\n",
    "print(sql)\n",
    "df = client.query(sql).to_dataframe()\n",
    "df"
   ]
  },
  {
   "cell_type": "code",
   "execution_count": 47,
   "id": "f0d7510d-9b25-4687-ab35-40939351685d",
   "metadata": {},
   "outputs": [
    {
     "name": "stdout",
     "output_type": "stream",
     "text": [
      "\n",
      "select\n",
      "    id\n",
      "    , count(t = 'ada') count_ada\n",
      "from\n",
      "    fct.tweet_mentioned_tokens\n",
      "    , unnest(tokens) t\n",
      "where\n",
      "    array_length(tokens) > 1\n",
      "group by\n",
      "    1\n",
      "limit\n",
      "    10\n",
      "\n"
     ]
    },
    {
     "data": {
      "text/html": [
       "<div>\n",
       "<style scoped>\n",
       "    .dataframe tbody tr th:only-of-type {\n",
       "        vertical-align: middle;\n",
       "    }\n",
       "\n",
       "    .dataframe tbody tr th {\n",
       "        vertical-align: top;\n",
       "    }\n",
       "\n",
       "    .dataframe thead th {\n",
       "        text-align: right;\n",
       "    }\n",
       "</style>\n",
       "<table border=\"1\" class=\"dataframe\">\n",
       "  <thead>\n",
       "    <tr style=\"text-align: right;\">\n",
       "      <th></th>\n",
       "      <th>id</th>\n",
       "      <th>count_ada</th>\n",
       "    </tr>\n",
       "  </thead>\n",
       "  <tbody>\n",
       "    <tr>\n",
       "      <th>0</th>\n",
       "      <td>1555389135971573760</td>\n",
       "      <td>2</td>\n",
       "    </tr>\n",
       "    <tr>\n",
       "      <th>1</th>\n",
       "      <td>1555762385704697859</td>\n",
       "      <td>3</td>\n",
       "    </tr>\n",
       "    <tr>\n",
       "      <th>2</th>\n",
       "      <td>1554882531664842755</td>\n",
       "      <td>3</td>\n",
       "    </tr>\n",
       "    <tr>\n",
       "      <th>3</th>\n",
       "      <td>1554976906180808707</td>\n",
       "      <td>3</td>\n",
       "    </tr>\n",
       "    <tr>\n",
       "      <th>4</th>\n",
       "      <td>1555022178621571073</td>\n",
       "      <td>3</td>\n",
       "    </tr>\n",
       "    <tr>\n",
       "      <th>5</th>\n",
       "      <td>1555679021781991424</td>\n",
       "      <td>5</td>\n",
       "    </tr>\n",
       "    <tr>\n",
       "      <th>6</th>\n",
       "      <td>1555622848256942080</td>\n",
       "      <td>2</td>\n",
       "    </tr>\n",
       "    <tr>\n",
       "      <th>7</th>\n",
       "      <td>1555660615825367042</td>\n",
       "      <td>2</td>\n",
       "    </tr>\n",
       "    <tr>\n",
       "      <th>8</th>\n",
       "      <td>1551892830771183618</td>\n",
       "      <td>2</td>\n",
       "    </tr>\n",
       "    <tr>\n",
       "      <th>9</th>\n",
       "      <td>1554173622360621056</td>\n",
       "      <td>2</td>\n",
       "    </tr>\n",
       "  </tbody>\n",
       "</table>\n",
       "</div>"
      ],
      "text/plain": [
       "                    id  count_ada\n",
       "0  1555389135971573760          2\n",
       "1  1555762385704697859          3\n",
       "2  1554882531664842755          3\n",
       "3  1554976906180808707          3\n",
       "4  1555022178621571073          3\n",
       "5  1555679021781991424          5\n",
       "6  1555622848256942080          2\n",
       "7  1555660615825367042          2\n",
       "8  1551892830771183618          2\n",
       "9  1554173622360621056          2"
      ]
     },
     "execution_count": 47,
     "metadata": {},
     "output_type": "execute_result"
    }
   ],
   "source": [
    "sql = \"\"\"\n",
    "select\n",
    "    id\n",
    "    , count(t = 'ada') count_ada\n",
    "from\n",
    "    fct.tweet_mentioned_tokens\n",
    "    , unnest(tokens) t\n",
    "where\n",
    "    array_length(tokens) > 1\n",
    "group by\n",
    "    1\n",
    "limit\n",
    "    10\n",
    "\"\"\"\n",
    "\n",
    "print(sql)\n",
    "df = client.query(sql).to_dataframe()\n",
    "df"
   ]
  },
  {
   "cell_type": "code",
   "execution_count": null,
   "id": "24a0b835-90c0-4a5a-8ab0-a701f928ecdc",
   "metadata": {},
   "outputs": [],
   "source": []
  }
 ],
 "metadata": {
  "kernelspec": {
   "display_name": "Python 3 (ipykernel)",
   "language": "python",
   "name": "python3"
  },
  "language_info": {
   "codemirror_mode": {
    "name": "ipython",
    "version": 3
   },
   "file_extension": ".py",
   "mimetype": "text/x-python",
   "name": "python",
   "nbconvert_exporter": "python",
   "pygments_lexer": "ipython3",
   "version": "3.9.13"
  }
 },
 "nbformat": 4,
 "nbformat_minor": 5
}
