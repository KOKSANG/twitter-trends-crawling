{
 "cells": [
  {
   "cell_type": "code",
   "execution_count": 3,
   "id": "f7a56bdb-d9bd-4dad-95ad-c3bf3ddce175",
   "metadata": {},
   "outputs": [
    {
     "name": "stdout",
     "output_type": "stream",
     "text": [
      "env: GOOGLE_APPLICATION_CREDENTIALS=/Users/klim/Desktop/area51.json\n"
     ]
    }
   ],
   "source": [
    "\n",
    "\n",
    "%env GOOGLE_APPLICATION_CREDENTIALS=/Users/klim/Desktop/area51.json"
   ]
  },
  {
   "cell_type": "code",
   "execution_count": 5,
   "id": "0c0dc873-b6f3-4507-a22c-e115bdadf273",
   "metadata": {},
   "outputs": [],
   "source": [
    "import pandas as pd\n",
    "from google.cloud import bigquery\n",
    "\n",
    "client = bigquery.Client()"
   ]
  },
  {
   "cell_type": "code",
   "execution_count": 6,
   "id": "25c4351c-13ea-494c-9ffa-1b768b02ce39",
   "metadata": {},
   "outputs": [
    {
     "data": {
      "text/html": [
       "<div>\n",
       "<style scoped>\n",
       "    .dataframe tbody tr th:only-of-type {\n",
       "        vertical-align: middle;\n",
       "    }\n",
       "\n",
       "    .dataframe tbody tr th {\n",
       "        vertical-align: top;\n",
       "    }\n",
       "\n",
       "    .dataframe thead th {\n",
       "        text-align: right;\n",
       "    }\n",
       "</style>\n",
       "<table border=\"1\" class=\"dataframe\">\n",
       "  <thead>\n",
       "    <tr style=\"text-align: right;\">\n",
       "      <th></th>\n",
       "      <th>table_catalog</th>\n",
       "      <th>table_schema</th>\n",
       "      <th>table_name</th>\n",
       "      <th>partition_id</th>\n",
       "      <th>total_rows</th>\n",
       "      <th>total_logical_bytes</th>\n",
       "      <th>total_billable_bytes</th>\n",
       "      <th>last_modified_time</th>\n",
       "      <th>storage_tier</th>\n",
       "    </tr>\n",
       "  </thead>\n",
       "  <tbody>\n",
       "    <tr>\n",
       "      <th>0</th>\n",
       "      <td>area51-lab</td>\n",
       "      <td>fct</td>\n",
       "      <td>tweets</td>\n",
       "      <td>None</td>\n",
       "      <td>262718</td>\n",
       "      <td>87713286</td>\n",
       "      <td>87713286</td>\n",
       "      <td>2022-08-06 10:11:37.030000+00:00</td>\n",
       "      <td>ACTIVE</td>\n",
       "    </tr>\n",
       "    <tr>\n",
       "      <th>1</th>\n",
       "      <td>area51-lab</td>\n",
       "      <td>fct</td>\n",
       "      <td>user_snapshots</td>\n",
       "      <td>None</td>\n",
       "      <td>165352</td>\n",
       "      <td>31646110</td>\n",
       "      <td>31646110</td>\n",
       "      <td>2022-08-06 10:12:08.207000+00:00</td>\n",
       "      <td>ACTIVE</td>\n",
       "    </tr>\n",
       "  </tbody>\n",
       "</table>\n",
       "</div>"
      ],
      "text/plain": [
       "  table_catalog table_schema      table_name partition_id  total_rows  \\\n",
       "0    area51-lab          fct          tweets         None      262718   \n",
       "1    area51-lab          fct  user_snapshots         None      165352   \n",
       "\n",
       "   total_logical_bytes  total_billable_bytes               last_modified_time  \\\n",
       "0             87713286              87713286 2022-08-06 10:11:37.030000+00:00   \n",
       "1             31646110              31646110 2022-08-06 10:12:08.207000+00:00   \n",
       "\n",
       "  storage_tier  \n",
       "0       ACTIVE  \n",
       "1       ACTIVE  "
      ]
     },
     "execution_count": 6,
     "metadata": {},
     "output_type": "execute_result"
    }
   ],
   "source": [
    "sql = \"\"\"\n",
    "    select * from fct.INFORMATION_SCHEMA.PARTITIONS\n",
    "\"\"\"\n",
    "\n",
    "df = client.query(sql).to_dataframe()\n",
    "df"
   ]
  },
  {
   "cell_type": "code",
   "execution_count": null,
   "id": "269d8528-3dce-4ef2-9beb-c4adf39c4c0f",
   "metadata": {},
   "outputs": [],
   "source": []
  },
  {
   "cell_type": "code",
   "execution_count": null,
   "id": "69ab0095-b5d2-4831-98d8-a361b43c17dd",
   "metadata": {},
   "outputs": [],
   "source": [
    "sql = \"\"\"\n",
    "    select * from fct.INFORMATION_SCHEMA.PARTITIONS\n",
    "\"\"\"\n",
    "\n",
    "df = client.query(sql).to_dataframe()\n",
    "df"
   ]
  }
 ],
 "metadata": {
  "kernelspec": {
   "display_name": "Python 3 (ipykernel)",
   "language": "python",
   "name": "python3"
  },
  "language_info": {
   "codemirror_mode": {
    "name": "ipython",
    "version": 3
   },
   "file_extension": ".py",
   "mimetype": "text/x-python",
   "name": "python",
   "nbconvert_exporter": "python",
   "pygments_lexer": "ipython3",
   "version": "3.9.13"
  }
 },
 "nbformat": 4,
 "nbformat_minor": 5
}
